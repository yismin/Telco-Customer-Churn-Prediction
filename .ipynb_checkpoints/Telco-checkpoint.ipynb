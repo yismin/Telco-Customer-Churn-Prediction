{
 "cells": [
  {
   "cell_type": "code",
   "execution_count": null,
   "id": "1330ebe1-77e5-46e0-8440-75ab8915763f",
   "metadata": {},
   "outputs": [],
   "source": [
    "#Import libraries\n",
    "import numpy as np\n",
    "import pandas as pd\n",
    "import matplotlib.pyplot as plt\n",
    "import seaborn as sns\n",
    "from sklearn.model_selection import train_test_split\n",
    "from sklearn.preprocessing import LabelEncoder\n",
    "from imblearn.over_sampling import SMOTE\n",
    "from sklearn.linear_model import LogisticRegression\n",
    "from sklearn.tree import DecisionTreeClassifier\n",
    "import xgboost as xgb\n",
    "from sklearn.ensemble import RandomForestClassifier\n",
    "from sklearn.metrics import accuracy_score, confusion_matrix, classification_report\n",
    "import pickle"
   ]
  },
  {
   "cell_type": "code",
   "execution_count": null,
   "id": "17a2d264-44d2-4157-9f17-360b3206e589",
   "metadata": {},
   "outputs": [],
   "source": [
    "df= pd.read_csv('TCC.csv')"
   ]
  },
  {
   "cell_type": "code",
   "execution_count": null,
   "id": "76f050f3-e43b-4157-b32a-72e778a6a632",
   "metadata": {},
   "outputs": [],
   "source": [
    "df = df.drop(columns=[\"customerID\"])"
   ]
  },
  {
   "cell_type": "code",
   "execution_count": null,
   "id": "6cf85a2b-e606-4254-884e-f5c792bccfe2",
   "metadata": {
    "jupyter": {
     "source_hidden": true
    },
    "scrolled": true
   },
   "outputs": [],
   "source": [
    "df.isnull().sum()"
   ]
  },
  {
   "cell_type": "code",
   "execution_count": null,
   "id": "7096323d-6d21-4252-8ef6-84859fb09eb7",
   "metadata": {
    "scrolled": true
   },
   "outputs": [],
   "source": [
    "print(df.apply(lambda x: x.unique()))"
   ]
  },
  {
   "cell_type": "code",
   "execution_count": null,
   "id": "7ec65336-45d2-4f17-971c-44b03b1f3153",
   "metadata": {},
   "outputs": [],
   "source": [
    "df[df[\"MonthlyCharges\"]==\" \"]"
   ]
  },
  {
   "cell_type": "code",
   "execution_count": null,
   "id": "9add26da-3c04-4e13-b478-121af00b64f8",
   "metadata": {
    "jupyter": {
     "source_hidden": true
    }
   },
   "outputs": [],
   "source": [
    "df[df[\"tenure\"]==\" \"]"
   ]
  },
  {
   "cell_type": "code",
   "execution_count": null,
   "id": "8257861c-51b5-419c-8615-ea67707d3dc0",
   "metadata": {
    "jupyter": {
     "source_hidden": true
    },
    "scrolled": true
   },
   "outputs": [],
   "source": [
    "df[df[\"TotalCharges\"]==\" \"]"
   ]
  },
  {
   "cell_type": "code",
   "execution_count": null,
   "id": "2fe6e795-e16b-4182-942c-34e3051f619b",
   "metadata": {
    "jupyter": {
     "source_hidden": true
    }
   },
   "outputs": [],
   "source": [
    "df[\"TotalCharges\"] = df[\"TotalCharges\"].replace(\" \", 0.0)"
   ]
  },
  {
   "cell_type": "code",
   "execution_count": null,
   "id": "5f557b95-3be5-4d81-993c-8d9ed4d429bc",
   "metadata": {
    "jupyter": {
     "source_hidden": true
    }
   },
   "outputs": [],
   "source": [
    "df[df[\"TotalCharges\"]==\" \"]"
   ]
  },
  {
   "cell_type": "code",
   "execution_count": null,
   "id": "3d4431f8-aff0-424d-bbe1-e67bca088218",
   "metadata": {
    "jupyter": {
     "source_hidden": true
    }
   },
   "outputs": [],
   "source": [
    "df[\"TotalCharges\"] = pd.to_numeric(df[\"TotalCharges\"], errors=\"coerce\")"
   ]
  },
  {
   "cell_type": "code",
   "execution_count": null,
   "id": "95c514b7-51a9-4ebb-9d48-6f60a2ec0ef8",
   "metadata": {
    "jupyter": {
     "source_hidden": true
    },
    "scrolled": true
   },
   "outputs": [],
   "source": [
    "print(df[\"TotalCharges\"].dtype)\n",
    "print(df[\"TotalCharges\"].isna().sum())  "
   ]
  },
  {
   "cell_type": "code",
   "execution_count": null,
   "id": "7d9bee21-3b10-47a1-abf2-530c942269e8",
   "metadata": {
    "jupyter": {
     "source_hidden": true
    }
   },
   "outputs": [],
   "source": [
    "print(df[\"Churn\"].value_counts())"
   ]
  },
  {
   "cell_type": "code",
   "execution_count": null,
   "id": "3c2cd8c6-971a-4bb9-928d-0108c30bdc86",
   "metadata": {
    "jupyter": {
     "source_hidden": true
    }
   },
   "outputs": [],
   "source": [
    "df.describe()"
   ]
  },
  {
   "cell_type": "code",
   "execution_count": null,
   "id": "c37a5595-4bd1-44a8-828c-9dfe61aaba07",
   "metadata": {},
   "outputs": [],
   "source": [
    "# Numerical Features Analysis"
   ]
  },
  {
   "cell_type": "code",
   "execution_count": null,
   "id": "6f178c93-00a7-45e5-afae-61b47b56e5b4",
   "metadata": {},
   "outputs": [],
   "source": [
    "sns.set_theme(style=\"whitegrid\")"
   ]
  },
  {
   "cell_type": "code",
   "execution_count": null,
   "id": "4cebf379-6ca3-4a9f-b6f8-21980bd8c4a2",
   "metadata": {
    "jupyter": {
     "source_hidden": true
    }
   },
   "outputs": [],
   "source": [
    "#histograms\n",
    "def histplot(df,column_name):\n",
    "    plt.figure(figsize=(6, 4))\n",
    "    sns.histplot(df[column_name],color=\"#FF9999\",edgecolor=\"PINK\",kde=True)\n",
    "    plt.title(f'Distribution of {column_name}')\n",
    "    plt.axvline(df[column_name].mean(), color=\"#F7DC84\",  label=\"Mean\")\n",
    "    plt.axvline(df[column_name].median(), color=\"LIGHTBLUE\", label=\"Median\")\n",
    "    plt.legend()\n",
    "    plt.show()"
   ]
  },
  {
   "cell_type": "code",
   "execution_count": null,
   "id": "c0a50d07-964d-47bd-b581-2989ec5557f4",
   "metadata": {
    "jupyter": {
     "source_hidden": true
    },
    "scrolled": true
   },
   "outputs": [],
   "source": [
    "histplot(df,'MonthlyCharges')"
   ]
  },
  {
   "cell_type": "code",
   "execution_count": null,
   "id": "7eb816ab-4b82-4589-a4d0-aa018948a7f1",
   "metadata": {
    "jupyter": {
     "source_hidden": true
    }
   },
   "outputs": [],
   "source": [
    "histplot(df,'TotalCharges')"
   ]
  },
  {
   "cell_type": "code",
   "execution_count": null,
   "id": "7f6b3acc-30c6-4932-9521-991f202769ba",
   "metadata": {
    "jupyter": {
     "source_hidden": true
    }
   },
   "outputs": [],
   "source": [
    "histplot(df,'tenure')"
   ]
  },
  {
   "cell_type": "code",
   "execution_count": null,
   "id": "ca3e7a11-bb0e-4d87-aff1-7c436879c026",
   "metadata": {
    "jupyter": {
     "source_hidden": true
    }
   },
   "outputs": [],
   "source": [
    "#boxplots\n",
    "def boxplot(df,column_name):\n",
    "    plt.figure(figsize=(6, 4))\n",
    "    sns.boxplot(y=df[column_name],width=0.1,color=\"#FF9999\",fliersize=5,linewidth=2)\n",
    "    plt.title(f'Box Plot of {column_name}')\n",
    "    sns.despine()\n",
    "    plt.tight_layout()\n",
    "    plt.show()\n"
   ]
  },
  {
   "cell_type": "code",
   "execution_count": null,
   "id": "76887a1d-f3aa-42a6-876d-fac20632d23a",
   "metadata": {
    "jupyter": {
     "source_hidden": true
    },
    "scrolled": true
   },
   "outputs": [],
   "source": [
    "boxplot(df,'MonthlyCharges')"
   ]
  },
  {
   "cell_type": "code",
   "execution_count": null,
   "id": "a359d03b-410f-4680-9e5b-cf90b9547ed0",
   "metadata": {
    "jupyter": {
     "source_hidden": true
    },
    "scrolled": true
   },
   "outputs": [],
   "source": [
    "boxplot(df,'TotalCharges')"
   ]
  },
  {
   "cell_type": "code",
   "execution_count": null,
   "id": "a0575a71-16d3-43ae-bc60-699c50b05dcb",
   "metadata": {
    "jupyter": {
     "source_hidden": true
    }
   },
   "outputs": [],
   "source": [
    "boxplot(df,'tenure')"
   ]
  },
  {
   "cell_type": "code",
   "execution_count": null,
   "id": "7c012cba-1cc2-4dd0-bf50-5d2e8bc06eab",
   "metadata": {},
   "outputs": [],
   "source": [
    "#correlation matrix  / heatmap\n",
    "plt.figure(figsize=(6, 4))\n",
    "sns.heatmap(df[['tenure','MonthlyCharges','TotalCharges']].corr(),annot=True,fmt='.3f')\n",
    "plt.title('Correlation Heatmap for Numerical Features')\n",
    "plt.show()"
   ]
  },
  {
   "cell_type": "code",
   "execution_count": null,
   "id": "571302f7-8848-48f8-81bc-ad6774f5c792",
   "metadata": {},
   "outputs": [],
   "source": [
    "# Categorical Features Analysis"
   ]
  },
  {
   "cell_type": "code",
   "execution_count": null,
   "id": "ef606913-1e95-40bd-b6bf-eca3822a1262",
   "metadata": {
    "jupyter": {
     "source_hidden": true
    }
   },
   "outputs": [],
   "source": [
    "df.dtypes"
   ]
  },
  {
   "cell_type": "code",
   "execution_count": null,
   "id": "87a27d46-5437-40c3-bc46-21b80fc651a0",
   "metadata": {
    "jupyter": {
     "source_hidden": true
    },
    "scrolled": true
   },
   "outputs": [],
   "source": [
    "import seaborn as sns\n",
    "import matplotlib.pyplot as plt\n",
    "\n",
    "cat_cols = df.select_dtypes(include=['object']).columns.tolist()\n",
    "cat_cols = ['SeniorCitizen'] + cat_cols \n",
    "\n",
    "n_cols = 3\n",
    "n_rows = (len(cat_cols) + n_cols - 1) // n_cols\n",
    "fig, axes = plt.subplots(n_rows, n_cols, figsize=(12, 4 * n_rows))\n",
    "axes = axes.flatten()\n",
    "\n",
    "for i, col in enumerate(cat_cols):\n",
    "    sns.countplot(data=df, x=col, ax=axes[i], alpha=0.7)\n",
    "    axes[i].tick_params(axis='x', rotation=45)\n",
    "    axes[i].set_title(col)\n",
    "\n",
    "for j in range(i + 1, len(axes)):\n",
    "    fig.delaxes(axes[j])\n",
    "\n",
    "plt.tight_layout()\n",
    "plt.show()"
   ]
  },
  {
   "cell_type": "code",
   "execution_count": null,
   "id": "9e4327cf-4cea-4166-b795-85ec6378f92f",
   "metadata": {
    "scrolled": true
   },
   "outputs": [],
   "source": [
    "df[\"Churn\"] = df[\"Churn\"].replace({\"Yes\": 1, \"No\": 0})"
   ]
  },
  {
   "cell_type": "code",
   "execution_count": null,
   "id": "935c715c-207c-4b83-8947-5c9fdeac692f",
   "metadata": {},
   "outputs": [],
   "source": [
    "df.head(1)"
   ]
  },
  {
   "cell_type": "code",
   "execution_count": null,
   "id": "75a6f1d5-e27b-472c-b261-3c6a11f22742",
   "metadata": {
    "jupyter": {
     "source_hidden": true
    }
   },
   "outputs": [],
   "source": [
    "encoded={}\n",
    "for column in cat_cols:\n",
    "    label_encoder=LabelEncoder()\n",
    "    df[column] = label_encoder.fit_transform(df[column])\n",
    "    encoded[column] = label_encoder\n",
    "    \n",
    "with open(\"encoded.pkl\", \"wb\") as f:\n",
    "  pickle.dump(encoded, f)"
   ]
  },
  {
   "cell_type": "code",
   "execution_count": null,
   "id": "d2a44d36-ae96-46fa-b635-93989bfd3c85",
   "metadata": {},
   "outputs": [],
   "source": [
    "#train/test"
   ]
  },
  {
   "cell_type": "code",
   "execution_count": null,
   "id": "b4e10c4a-2eae-4e1d-863c-15bcf177392b",
   "metadata": {},
   "outputs": [],
   "source": [
    "X = df.drop(columns=[\"Churn\"])\n",
    "y = df[\"Churn\"]\n",
    "X_train, X_test, y_train, y_test = train_test_split(X, y, test_size=0.2, random_state=42)"
   ]
  },
  {
   "cell_type": "code",
   "execution_count": null,
   "id": "f29dc0de-5d14-4749-beed-67a67a46902a",
   "metadata": {},
   "outputs": [],
   "source": [
    "#oversampling using SMOTE "
   ]
  },
  {
   "cell_type": "code",
   "execution_count": null,
   "id": "48f49822-536f-46c8-8c30-e6c2ff7d977c",
   "metadata": {},
   "outputs": [],
   "source": [
    "smote=SMOTE(random_state=42)\n",
    "X_train_smote,y_train_smote=smote.fit_resample(X_train,y_train)"
   ]
  },
  {
   "cell_type": "code",
   "execution_count": null,
   "id": "90c53c40-b5fe-4269-98f6-520a43762d68",
   "metadata": {},
   "outputs": [],
   "source": [
    "print(y_train_smote.value_counts()) #churn values are now equal (not unbalanced like before)"
   ]
  },
  {
   "cell_type": "code",
   "execution_count": null,
   "id": "9b9971ad-beb6-4835-a82a-6f3e374dcde3",
   "metadata": {},
   "outputs": [],
   "source": [
    "#model training"
   ]
  },
  {
   "cell_type": "code",
   "execution_count": null,
   "id": "d6ce1130-bb01-4da6-a5f6-083e2922f4a0",
   "metadata": {},
   "outputs": [],
   "source": [
    "crossval_scores = {}"
   ]
  },
  {
   "cell_type": "code",
   "execution_count": null,
   "id": "ba3b25b6-4286-49ce-a7fb-871a98c1b8c1",
   "metadata": {},
   "outputs": [],
   "source": [
    "models={'DecisionTree':DecisionTreeClassifier(random_state=42),\n",
    "        'RandomForest':RandomForestClassifier(random_state=42),\n",
    "        'XGBoost':xgb(random_state=42),\n",
    "        'LogisticRegression':LogisticRegression(random_state=42,max_iter=1000)}"
   ]
  },
  {
   "cell_type": "code",
   "execution_count": null,
   "id": "8111d7bb-7f8f-4b7a-9e25-bb7adb2a32b3",
   "metadata": {},
   "outputs": [],
   "source": [
    "for i, j in models.items():\n",
    "    score = cross_val_score(j, X_train_smote, y_train_smote, cv=5, scoring=\"accuracy\")\n",
    "    cv_scores[i] = score\n",
    "    print(f\"{i} cross validation accuracy: {np.mean(scores)}\")\n",
    "    print()"
   ]
  },
  {
   "cell_type": "code",
   "execution_count": null,
   "id": "76c75849-d4b0-48ce-becb-72a6b185da07",
   "metadata": {},
   "outputs": [],
   "source": []
  }
 ],
 "metadata": {
  "kernelspec": {
   "display_name": "Python [conda env:base] *",
   "language": "python",
   "name": "conda-base-py"
  },
  "language_info": {
   "codemirror_mode": {
    "name": "ipython",
    "version": 3
   },
   "file_extension": ".py",
   "mimetype": "text/x-python",
   "name": "python",
   "nbconvert_exporter": "python",
   "pygments_lexer": "ipython3",
   "version": "3.12.7"
  }
 },
 "nbformat": 4,
 "nbformat_minor": 5
}
